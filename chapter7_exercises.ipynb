{
 "cells": [
  {
   "attachments": {},
   "cell_type": "markdown",
   "metadata": {},
   "source": [
    "## Chapter 7 Exercises\n",
    "### Algorithm Workbench\n",
    "#### Question 2"
   ]
  },
  {
   "cell_type": "code",
   "execution_count": 5,
   "metadata": {},
   "outputs": [
    {
     "name": "stdout",
     "output_type": "stream",
     "text": [
      "Einstein\n",
      "Newton\n",
      "Copernicus\n",
      "Kepler\n"
     ]
    }
   ],
   "source": [
    "# Write a for loop that printes each element of a list\n",
    "# Create the list\n",
    "names = ['Einstein', 'Newton', 'Copernicus', 'Kepler']\n",
    "# Create for loop to iterate over the list of names\n",
    "for name in names:\n",
    "    # Print each name\n",
    "    print(name)\n"
   ]
  },
  {
   "attachments": {},
   "cell_type": "markdown",
   "metadata": {},
   "source": [
    "#### Question 6"
   ]
  },
  {
   "cell_type": "code",
   "execution_count": 7,
   "metadata": {},
   "outputs": [
    {
     "name": "stdout",
     "output_type": "stream",
     "text": [
      "Hello Ruby\n"
     ]
    }
   ],
   "source": [
    "# Write code that create a list of strings and determines if the list contains 'Ruby', and if so, print the message 'Hello Ruby'. Otherwise, print the message 'No Ruby'\n",
    "# Create a list of strings that contains 'Ruby'\n",
    "names = ['Einstein', 'Newton', 'Ruby', 'Kepler']\n",
    "# Use the in operator to determine if the name 'Ruby' is found in the list\n",
    "if 'Ruby' in names:\n",
    "    # Ruby is found.\n",
    "    print('Hello Ruby')\n",
    "else:\n",
    "    # Ruby is not found\n",
    "    print('No Ruby')\n"
   ]
  }
 ],
 "metadata": {
  "kernelspec": {
   "display_name": "Python 3",
   "language": "python",
   "name": "python3"
  },
  "language_info": {
   "codemirror_mode": {
    "name": "ipython",
    "version": 3
   },
   "file_extension": ".py",
   "mimetype": "text/x-python",
   "name": "python",
   "nbconvert_exporter": "python",
   "pygments_lexer": "ipython3",
   "version": "3.11.3"
  },
  "orig_nbformat": 4
 },
 "nbformat": 4,
 "nbformat_minor": 2
}
