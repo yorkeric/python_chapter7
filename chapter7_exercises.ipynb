{
 "cells": [
  {
   "attachments": {},
   "cell_type": "markdown",
   "metadata": {},
   "source": [
    "## Chapter 7 Exercises\n",
    "### Algorithm Workbench\n",
    "#### Question 2"
   ]
  },
  {
   "cell_type": "code",
   "execution_count": 5,
   "metadata": {},
   "outputs": [
    {
     "name": "stdout",
     "output_type": "stream",
     "text": [
      "Einstein\n",
      "Newton\n",
      "Copernicus\n",
      "Kepler\n"
     ]
    }
   ],
   "source": [
    "# Write a for loop that printes each element of a list\n",
    "# Create the list\n",
    "names = ['Einstein', 'Newton', 'Copernicus', 'Kepler']\n",
    "# Create for loop to iterate over the list of names\n",
    "for name in names:\n",
    "    # Print each name\n",
    "    print(name)\n"
   ]
  },
  {
   "attachments": {},
   "cell_type": "markdown",
   "metadata": {},
   "source": [
    "#### Question 6"
   ]
  },
  {
   "cell_type": "code",
   "execution_count": 11,
   "metadata": {},
   "outputs": [
    {
     "name": "stdout",
     "output_type": "stream",
     "text": [
      "This is the names list: ['Einstein', 'Newton', 'Ruby', 'Kepler']\n",
      "Hello Ruby\n",
      "\n",
      "This is the names list: ['Einstein', 'Newton', 'Copernicus', 'Kepler']\n",
      "No Ruby\n"
     ]
    }
   ],
   "source": [
    "# Write code that create a list of strings and determines if the list contains 'Ruby', and if so, print the message 'Hello Ruby'. Otherwise, print the message 'No Ruby'\n",
    "# Create a list of strings that contains 'Ruby'\n",
    "names = ['Einstein', 'Newton', 'Ruby', 'Kepler']\n",
    "# Print the names list\n",
    "print(\"This is the names list:\", names)\n",
    "# Use the in operator to determine if the name 'Ruby' is found in the list\n",
    "if 'Ruby' in names:\n",
    "    # Ruby is found.\n",
    "    print('Hello Ruby')\n",
    "else:\n",
    "    # Ruby is not found\n",
    "    print('No Ruby')\n",
    "\n",
    "# Create a list of strings that does not contain 'Ruby'\n",
    "names = ['Einstein', 'Newton', 'Copernicus', 'Kepler']\n",
    "# Print the names list\n",
    "print(\"\\nThis is the names list:\", names)\n",
    "# Use the in operator to determine if the name 'Ruby' is found in the list\n",
    "if 'Ruby' in names:\n",
    "    # Ruby is found.\n",
    "    print('Hello Ruby')\n",
    "else:\n",
    "    # Ruby is not found\n",
    "    print('No Ruby')"
   ]
  },
  {
   "attachments": {},
   "cell_type": "markdown",
   "metadata": {},
   "source": [
    "### Programming Exercises\n",
    "#### Question 1 - Total Sales"
   ]
  },
  {
   "cell_type": "code",
   "execution_count": 23,
   "metadata": {},
   "outputs": [
    {
     "name": "stdout",
     "output_type": "stream",
     "text": [
      "Total weekly sales: $3351.18\n"
     ]
    }
   ],
   "source": [
    "# Write a program that inputs the total sales for each day of the week and prints the total sales for the week\n",
    "# Create a list of each day\n",
    "days = ['Monday', 'Tuesday', 'Wednesday', 'Thursday', 'Friday', 'Saturday', 'Sunday']\n",
    "# Initalize the total sales variable\n",
    "total_sales = 0\n",
    "# Loop over the days list\n",
    "for day in days:\n",
    "    # Prompt for the total daily sales\n",
    "    total_sales += float(input(f'Enter the total sales for {day}:'))\n",
    "# Print the total sales\n",
    "print('Total weekly sales: $' + '{:.2f}'.format(round(total_sales, 2)))"
   ]
  },
  {
   "attachments": {},
   "cell_type": "markdown",
   "metadata": {},
   "source": [
    "#### Question 14"
   ]
  },
  {
   "cell_type": "code",
   "execution_count": 34,
   "metadata": {},
   "outputs": [
    {
     "name": "stdout",
     "output_type": "stream",
     "text": [
      "Rent,900\n",
      "\n",
      "Gas,150\n",
      "\n",
      "Food,400\n",
      "\n",
      "Clothing,150\n",
      "\n",
      "Car payment,300\n",
      "\n",
      "Misc,400\n"
     ]
    }
   ],
   "source": [
    "# Read a text file named expenses.txt that contains monthly expenses by category.  \n",
    "# Display a pie chart to show how the money is spend\n",
    "# Import program to create a pie chart\n",
    "import matplotlib.pyplot as plt\n",
    "# Initilize the expenses amount list\n",
    "expense_amount = []\n",
    "# Initilize the expense category list\n",
    "expense_category = []\n",
    "#open file named expenses.txt\n",
    "with open('expenses.txt', 'r') as expenses_file:\n",
    "    for expense in expenses_file:\n",
    "        print(expense)"
   ]
  }
 ],
 "metadata": {
  "kernelspec": {
   "display_name": "Python 3",
   "language": "python",
   "name": "python3"
  },
  "language_info": {
   "codemirror_mode": {
    "name": "ipython",
    "version": 3
   },
   "file_extension": ".py",
   "mimetype": "text/x-python",
   "name": "python",
   "nbconvert_exporter": "python",
   "pygments_lexer": "ipython3",
   "version": "3.11.3"
  },
  "orig_nbformat": 4
 },
 "nbformat": 4,
 "nbformat_minor": 2
}
