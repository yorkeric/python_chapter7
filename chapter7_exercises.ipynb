{
 "cells": [
  {
   "attachments": {},
   "cell_type": "markdown",
   "metadata": {},
   "source": [
    "## Chapter 7 Exercises\n",
    "### Algorithm Workbench\n",
    "#### Question 2"
   ]
  },
  {
   "cell_type": "code",
   "execution_count": 5,
   "metadata": {},
   "outputs": [
    {
     "name": "stdout",
     "output_type": "stream",
     "text": [
      "Einstein\n",
      "Newton\n",
      "Copernicus\n",
      "Kepler\n"
     ]
    }
   ],
   "source": [
    "# Write a for loop that printes each element of a list\n",
    "# Create the list\n",
    "names = ['Einstein', 'Newton', 'Copernicus', 'Kepler']\n",
    "# Create for loop to iterate over the list of names\n",
    "for name in names:\n",
    "    # Print each name\n",
    "    print(name)\n"
   ]
  },
  {
   "attachments": {},
   "cell_type": "markdown",
   "metadata": {},
   "source": [
    "#### Question 6"
   ]
  },
  {
   "cell_type": "code",
   "execution_count": 11,
   "metadata": {},
   "outputs": [
    {
     "name": "stdout",
     "output_type": "stream",
     "text": [
      "This is the names list: ['Einstein', 'Newton', 'Ruby', 'Kepler']\n",
      "Hello Ruby\n",
      "\n",
      "This is the names list: ['Einstein', 'Newton', 'Copernicus', 'Kepler']\n",
      "No Ruby\n"
     ]
    }
   ],
   "source": [
    "# Write code that create a list of strings and determines if the list contains 'Ruby', and if so, print the message 'Hello Ruby'. Otherwise, print the message 'No Ruby'\n",
    "# Create a list of strings that contains 'Ruby'\n",
    "names = ['Einstein', 'Newton', 'Ruby', 'Kepler']\n",
    "# Print the names list\n",
    "print(\"This is the names list:\", names)\n",
    "# Use the in operator to determine if the name 'Ruby' is found in the list\n",
    "if 'Ruby' in names:\n",
    "    # Ruby is found.\n",
    "    print('Hello Ruby')\n",
    "else:\n",
    "    # Ruby is not found\n",
    "    print('No Ruby')\n",
    "\n",
    "# Create a list of strings that does not contain 'Ruby'\n",
    "names = ['Einstein', 'Newton', 'Copernicus', 'Kepler']\n",
    "# Print the names list\n",
    "print(\"\\nThis is the names list:\", names)\n",
    "# Use the in operator to determine if the name 'Ruby' is found in the list\n",
    "if 'Ruby' in names:\n",
    "    # Ruby is found.\n",
    "    print('Hello Ruby')\n",
    "else:\n",
    "    # Ruby is not found\n",
    "    print('No Ruby')"
   ]
  },
  {
   "attachments": {},
   "cell_type": "markdown",
   "metadata": {},
   "source": [
    "### Programming Exercises\n",
    "#### Question 1 - Total Sales"
   ]
  },
  {
   "cell_type": "code",
   "execution_count": 23,
   "metadata": {},
   "outputs": [
    {
     "name": "stdout",
     "output_type": "stream",
     "text": [
      "Total weekly sales: $3351.18\n"
     ]
    }
   ],
   "source": [
    "# Write a program that inputs the total sales for each day of the week and prints the total sales for the week\n",
    "# Create a list of each day\n",
    "days = ['Monday', 'Tuesday', 'Wednesday', 'Thursday', 'Friday', 'Saturday', 'Sunday']\n",
    "# Initalize the total sales variable\n",
    "total_sales = 0\n",
    "# Loop over the days list\n",
    "for day in days:\n",
    "    # Prompt for the total daily sales\n",
    "    total_sales += float(input(f'Enter the total sales for {day}:'))\n",
    "# Print the total sales\n",
    "print('Total weekly sales: $' + '{:.2f}'.format(round(total_sales, 2)))"
   ]
  },
  {
   "attachments": {},
   "cell_type": "markdown",
   "metadata": {},
   "source": [
    "#### Question 14 - Expense Pie Chart"
   ]
  },
  {
   "cell_type": "code",
   "execution_count": 36,
   "metadata": {},
   "outputs": [
    {
     "data": {
      "text/plain": [
       "<function matplotlib.pyplot.show(close=None, block=None)>"
      ]
     },
     "execution_count": 36,
     "metadata": {},
     "output_type": "execute_result"
    },
    {
     "data": {
      "image/png": "[encoded data removed]",
      "text/plain": [
       "<Figure size 640x480 with 1 Axes>"
      ]
     },
     "metadata": {},
     "output_type": "display_data"
    }
   ],
   "source": [
    "# Read a text file named expenses.txt that contains monthly expenses by category.  \n",
    "# Display a pie chart to show how the money is spend\n",
    "# Import program to create a pie chart\n",
    "import matplotlib.pyplot as plt\n",
    "# Initilize the expenses amount list\n",
    "expense_amount = []\n",
    "# Initilize the expense category list\n",
    "expense_category = []\n",
    "# Open file named expenses.txt\n",
    "with open('expenses.txt', 'r') as expenses_file:\n",
    "    # Loop each line in the expenses file \n",
    "    for expense in expenses_file:\n",
    "        # Read the line and strip any new line characters.  Store the expense category by splitting the line on the comma and getting the first value\n",
    "        expense_category.append(expense.strip().split(',')[0])\n",
    "        # Read the line and strip any new line characters.  Store the expense amount by splitting the line on the comma and getting the second value\n",
    "        expense_amount.append(expense.strip().split(',')[1])\n",
    "# Create a pie chart from the expense amount list with the expense category as the label        \n",
    "plt.pie(expense_amount, labels=expense_category)\n",
    "# Add a pie chart title\n",
    "plt.title('Monthly Expenses')\n",
    "# Display the pie chart\n",
    "plt.show    "
   ]
  },
  {
   "attachments": {},
   "cell_type": "markdown",
   "metadata": {},
   "source": [
    "#### Question 2 - Lottery Number Generator"
   ]
  },
  {
   "cell_type": "code",
   "execution_count": 49,
   "metadata": {},
   "outputs": [
    {
     "name": "stdout",
     "output_type": "stream",
     "text": [
      "7976328"
     ]
    }
   ],
   "source": [
    "# Write a program that generates a random seven digit number.  Each digit is generated separately and stored in a list.  Loop over the list and print the number\n",
    "# Import program to generate random number\n",
    "import random\n",
    "# Initalize the random number list\n",
    "random_number_list = []\n",
    "# Loop seven times to create the list that contains seven elements\n",
    "for i in range(7):\n",
    "    # Append a random number to the random number list. Values are 0 through 9\n",
    "    random_number_list.append(random.randint(0, 9))\n",
    "# Loop the list\n",
    "for number in random_number_list:\n",
    "    # Print each number in sequential order using the end parameter of empty string (to keep the numbers on a single line)\n",
    "    print(number, end=\"\")"
   ]
  },
  {
   "attachments": {},
   "cell_type": "markdown",
   "metadata": {},
   "source": [
    "#### Question 4 - Number Analysis Program"
   ]
  },
  {
   "cell_type": "code",
   "execution_count": 54,
   "metadata": {},
   "outputs": [
    {
     "name": "stdout",
     "output_type": "stream",
     "text": [
      "Lowest number: 3\n",
      "Lowest number: 222\n"
     ]
    }
   ],
   "source": [
    "# Write a program that prompts the user for 20 numbers and displays the lowest number, highest number, total, and average\n",
    "# Initalize the numbers list\n",
    "numbers = []\n",
    "# Loop 20 times\n",
    "for i in range(5):\n",
    "    # Prompt the user for a number and append to the numbers list\n",
    "    numbers.append(int(input('Enter a number:')))\n",
    "# Print the lowest number in the numbers list using the min() method\n",
    "print('Lowest number:', min(numbers))\n",
    "# Print the highest number in the numbers list using the max() method\n",
    "print('Highest number:', max(numbers))"
   ]
  }
 ],
 "metadata": {
  "kernelspec": {
   "display_name": "Python 3",
   "language": "python",
   "name": "python3"
  },
  "language_info": {
   "codemirror_mode": {
    "name": "ipython",
    "version": 3
   },
   "file_extension": ".py",
   "mimetype": "text/x-python",
   "name": "python",
   "nbconvert_exporter": "python",
   "pygments_lexer": "ipython3",
   "version": "3.11.3"
  },
  "orig_nbformat": 4
 },
 "nbformat": 4,
 "nbformat_minor": 2
}
